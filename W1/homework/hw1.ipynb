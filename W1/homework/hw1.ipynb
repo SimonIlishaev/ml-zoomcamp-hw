{
 "cells": [
  {
   "cell_type": "markdown",
   "id": "dcbb0741",
   "metadata": {},
   "source": [
    "## Homework"
   ]
  },
  {
   "cell_type": "code",
   "execution_count": 1,
   "id": "e7887ea9",
   "metadata": {},
   "outputs": [],
   "source": [
    "import numpy as np\n",
    "import pandas as pd"
   ]
  },
  {
   "cell_type": "code",
   "execution_count": 2,
   "id": "1b5a88ba",
   "metadata": {},
   "outputs": [
    {
     "data": {
      "text/plain": [
       "'1.23.2'"
      ]
     },
     "execution_count": 2,
     "metadata": {},
     "output_type": "execute_result"
    }
   ],
   "source": [
    "### Question 1. Numpy version\n",
    "\n",
    "np.__version__"
   ]
  },
  {
   "cell_type": "code",
   "execution_count": 3,
   "id": "be806009",
   "metadata": {},
   "outputs": [],
   "source": [
    "### Getting the data\n",
    "data = pd.read_csv(\"data.csv\")"
   ]
  },
  {
   "cell_type": "code",
   "execution_count": 4,
   "id": "ad3f5fa1",
   "metadata": {},
   "outputs": [
    {
     "data": {
      "text/plain": [
       "11914"
      ]
     },
     "execution_count": 4,
     "metadata": {},
     "output_type": "execute_result"
    }
   ],
   "source": [
    "### Question 2. Number of records in the dataset\n",
    "data.shape[0]"
   ]
  },
  {
   "cell_type": "code",
   "execution_count": 5,
   "id": "a8fb0f3c",
   "metadata": {},
   "outputs": [
    {
     "data": {
      "text/plain": [
       "Chevrolet     1123\n",
       "Ford           881\n",
       "Volkswagen     809\n",
       "Name: Make, dtype: int64"
      ]
     },
     "execution_count": 5,
     "metadata": {},
     "output_type": "execute_result"
    }
   ],
   "source": [
    "### Question 3. Top 3 manufacturers\n",
    "data.Make.value_counts()[:3]"
   ]
  },
  {
   "cell_type": "code",
   "execution_count": 6,
   "id": "12b534f0",
   "metadata": {},
   "outputs": [
    {
     "data": {
      "text/plain": [
       "34"
      ]
     },
     "execution_count": 6,
     "metadata": {},
     "output_type": "execute_result"
    }
   ],
   "source": [
    "### Question 4. Unique Audi models number\n",
    "data.Model.loc[data.Make == \"Audi\"].nunique()"
   ]
  },
  {
   "cell_type": "code",
   "execution_count": 7,
   "id": "180ade18",
   "metadata": {},
   "outputs": [
    {
     "data": {
      "text/plain": [
       "5"
      ]
     },
     "execution_count": 7,
     "metadata": {},
     "output_type": "execute_result"
    }
   ],
   "source": [
    "### Question 5. Number of columns with empty values.\n",
    "(data.isnull().sum() > 0).sum()"
   ]
  },
  {
   "cell_type": "code",
   "execution_count": 8,
   "id": "12a8de8e",
   "metadata": {},
   "outputs": [],
   "source": [
    "### Question 6. Median value change\n",
    "\n",
    "from calendar import c\n",
    "\n",
    "\n",
    "initial_median = data[\"Engine Cylinders\"].median()\n",
    "most_frequent = data[\"Engine Cylinders\"].mode()\n",
    "data.fillna({\"Engine Cylinders\": most_frequent}, inplace=True)\n",
    "new_median = data[\"Engine Cylinders\"].median()"
   ]
  },
  {
   "cell_type": "code",
   "execution_count": 9,
   "id": "ed360c3e",
   "metadata": {},
   "outputs": [
    {
     "data": {
      "text/plain": [
       "True"
      ]
     },
     "execution_count": 9,
     "metadata": {},
     "output_type": "execute_result"
    }
   ],
   "source": [
    "initial_median == new_median"
   ]
  },
  {
   "cell_type": "code",
   "execution_count": 10,
   "id": "50c1b93e",
   "metadata": {},
   "outputs": [],
   "source": [
    "### Question 7. Simple regression\n",
    "X = data[[\"Engine HP\", \"Engine Cylinders\"]].loc[data.Make == \"Lotus\"].drop_duplicates().values\n",
    "y = [1100, 800, 750, 850, 1300, 1000, 1000, 1300, 800]"
   ]
  },
  {
   "cell_type": "code",
   "execution_count": 11,
   "id": "4d68baea",
   "metadata": {},
   "outputs": [],
   "source": [
    "def OLS(X, y):\n",
    "    XTX = X.T.dot(X)\n",
    "    w = np.linalg.inv(XTX).dot(X.T).dot(y)\n",
    "    return w"
   ]
  },
  {
   "cell_type": "code",
   "execution_count": 12,
   "id": "0c7c278c",
   "metadata": {},
   "outputs": [
    {
     "data": {
      "text/plain": [
       "4.594944810094551"
      ]
     },
     "execution_count": 12,
     "metadata": {},
     "output_type": "execute_result"
    }
   ],
   "source": [
    "w = OLS(X, y)\n",
    "w[0]"
   ]
  }
 ],
 "metadata": {
  "kernelspec": {
   "display_name": "Python 3.10.6 ('main': conda)",
   "language": "python",
   "name": "python3"
  },
  "language_info": {
   "codemirror_mode": {
    "name": "ipython",
    "version": 3
   },
   "file_extension": ".py",
   "mimetype": "text/x-python",
   "name": "python",
   "nbconvert_exporter": "python",
   "pygments_lexer": "ipython3",
   "version": "3.10.6"
  },
  "vscode": {
   "interpreter": {
    "hash": "9e374508178345db5c0ced918b00ce17bc4fa74bfe387c36bb608f4668b80cce"
   }
  }
 },
 "nbformat": 4,
 "nbformat_minor": 5
}
